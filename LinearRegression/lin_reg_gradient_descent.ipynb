{
 "cells": [
  {
   "cell_type": "code",
   "execution_count": 1,
   "metadata": {
    "colab": {
     "autoexec": {
      "startup": false,
      "wait_interval": 0
     }
    },
    "colab_type": "code",
    "collapsed": true,
    "id": "Nt3UAqRWBPQ8"
   },
   "outputs": [],
   "source": [
    "import numpy as np\n",
    "import pandas as pd\n",
    "\n",
    "import matplotlib.pyplot as plt\n",
    "from sklearn.datasets import load_boston"
   ]
  },
  {
   "cell_type": "code",
   "execution_count": 2,
   "metadata": {
    "colab": {
     "autoexec": {
      "startup": false,
      "wait_interval": 0
     }
    },
    "colab_type": "code",
    "collapsed": true,
    "id": "-47NkPNPBk8f"
   },
   "outputs": [],
   "source": [
    "#data = pd.read_csv(\"boston_housing.csv\")\n",
    "dataset = load_boston()\n",
    "\n",
    "df = pd.DataFrame(dataset.data, columns=dataset.feature_names)\n",
    "df['target'] = dataset.target\n",
    "\n",
    "data = df.copy()\n",
    "X = data.drop('target',axis=1)\n",
    "y = data['target'].to_frame()\n"
   ]
  },
  {
   "cell_type": "code",
   "execution_count": 3,
   "metadata": {
    "colab": {
     "autoexec": {
      "startup": false,
      "wait_interval": 0
     },
     "base_uri": "https://localhost:8080/",
     "height": 443,
     "output_extras": [
      {
       "item_id": 1
      },
      {
       "item_id": 2
      }
     ]
    },
    "colab_type": "code",
    "executionInfo": {
     "elapsed": 130138,
     "status": "ok",
     "timestamp": 1518712582686,
     "user": {
      "displayName": "Vineet Mehta",
      "photoUrl": "//lh4.googleusercontent.com/-JCZEVdBAFQM/AAAAAAAAAAI/AAAAAAAALww/msBlnCkt5gw/s50-c-k-no/photo.jpg",
      "userId": "106799698666941147640"
     },
     "user_tz": -330
    },
    "id": "VgOa9KddBgtN",
    "outputId": "074090ed-6c5c-4b47-9d4b-78e589e80d8f"
   },
   "outputs": [
    {
     "name": "stdout",
     "output_type": "stream",
     "text": [
      "target    45.33696\n",
      "dtype: float64\n",
      "The predicted value of given dataset is: [ 34.69517091]\n",
      "The predicted value of given dataset is: [ 30.18078642]\n"
     ]
    },
    {
     "data": {
      "image/png": "[encoded data removed]",
      "text/plain": [
       "<matplotlib.figure.Figure at 0x10eaf1d10>"
      ]
     },
     "metadata": {},
     "output_type": "display_data"
    }
   ],
   "source": [
    "X['unit'] = np.ones(506)\n",
    "\n",
    "w =  np.random.randn(14,1)\n",
    "\n",
    "alpha = 0.000006\n",
    "numIterations = 10000\n",
    "m = 506\n",
    "cost_plot = []\n",
    "w0 = 0\n",
    "k = np.matmul(X,w) - y\n",
    "cost = np.sum(k*k)/(2*m)\n",
    "cost_plot = {}\n",
    "for i in range(numIterations):\n",
    "    p = (np.matmul(X,w) - y)\n",
    "    cost = np.sum(p*p/(2*m))\n",
    "    cost_plot[i] = np.log10(cost.as_matrix()[0])\n",
    "    p = p/m\n",
    "    grad = np.matmul(X.T,(np.matmul(X,w) - y))/m\n",
    "    w = w - alpha*grad\n",
    "print cost\n",
    "X_test1 = [0.0101, 30, 5.19, 0, 0.0493, 6.059,37.3, 4.8122,1, 430,19.6, 375.21, 8.51,1]\n",
    "pred = np.matmul(X_test1,w)\n",
    "print \"The predicted value of given dataset is:\",pred\n",
    "X_test2 = [0.02501, 35, 4.15, 1, 0.77, 8.78, 81.3, 2.5051, 24, 666, 17, 382.8, 11.48 ,1 ]\n",
    "pred = np.matmul(X_test2,w)\n",
    "print \"The predicted value of given dataset is:\",pred\n",
    "\n",
    "lists = sorted(cost_plot.items()) # sorted by key, return a list of tuples\n",
    "\n",
    "x1, y1 = zip(*lists) # unpack a list of pairs into two tuples\n",
    "\n",
    "plt.plot(x1, y1)\n",
    "plt.title('Cost vs Iterations')\n",
    "plt.xlabel('Iterations')\n",
    "plt.ylabel('Log base 10 Cost')\n",
    "plt.show()"
   ]
  },
  {
   "cell_type": "code",
   "execution_count": 6,
   "metadata": {
    "colab": {
     "autoexec": {
      "startup": false,
      "wait_interval": 0
     }
    },
    "colab_type": "code",
    "id": "05qsKnEHUMBl"
   },
   "outputs": [
    {
     "name": "stdout",
     "output_type": "stream",
     "text": [
      "The predicted value of given dataset is: [ 25.67836374]\n"
     ]
    }
   ],
   "source": [
    "X_test3 = [3.67822, 0, 18.1, 1, 0.7, 6.649, 98.8, 1.1742, 24, 711, 20.2, 398.28, 18.07,1]\n",
    "pred = np.matmul(X_test3,w)\n",
    "print \"The predicted value of given dataset is:\",pred"
   ]
  },
  {
   "cell_type": "code",
   "execution_count": null,
   "metadata": {
    "collapsed": true
   },
   "outputs": [],
   "source": []
  }
 ],
 "metadata": {
  "accelerator": "GPU",
  "colab": {
   "default_view": {},
   "name": "lin_reg_gd.ipynb",
   "provenance": [],
   "version": "0.3.2",
   "views": {}
  },
  "kernelspec": {
   "display_name": "Python 2",
   "language": "python",
   "name": "python2"
  },
  "language_info": {
   "codemirror_mode": {
    "name": "ipython",
    "version": 2
   },
   "file_extension": ".py",
   "mimetype": "text/x-python",
   "name": "python",
   "nbconvert_exporter": "python",
   "pygments_lexer": "ipython2",
   "version": "2.7.14"
  }
 },
 "nbformat": 4,
 "nbformat_minor": 1
}
