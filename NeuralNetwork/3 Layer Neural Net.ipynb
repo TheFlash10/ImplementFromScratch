{
 "cells": [
  {
   "cell_type": "code",
   "execution_count": 1,
   "metadata": {},
   "outputs": [],
   "source": [
    "# Imports\n",
    "import matplotlib.pyplot as plt\n",
    "import numpy as np\n",
    "import sklearn\n",
    "import sklearn.datasets\n",
    "import matplotlib"
   ]
  },
  {
   "cell_type": "code",
   "execution_count": 2,
   "metadata": {},
   "outputs": [],
   "source": [
    "%matplotlib inline\n",
    "matplotlib.rcParams['figure.figsize'] = (12.0,10.0)"
   ]
  },
  {
   "cell_type": "code",
   "execution_count": 3,
   "metadata": {},
   "outputs": [],
   "source": [
    "np.random.seed(5)\n",
    "X, y = sklearn.datasets.make_moons(200,noise=0.20)"
   ]
  },
  {
   "cell_type": "code",
   "execution_count": 4,
   "metadata": {},
   "outputs": [
    {
     "name": "stdout",
     "output_type": "stream",
     "text": [
      "[[ 0.12460094 -0.09920708]\n",
      " [-0.85988759  0.73037763]\n",
      " [ 1.05700765 -0.60013727]]\n",
      "[1 0 1]\n"
     ]
    }
   ],
   "source": [
    "print(X[0:3])\n",
    "print(y[0:3])"
   ]
  },
  {
   "cell_type": "code",
   "execution_count": 5,
   "metadata": {},
   "outputs": [
    {
     "name": "stdout",
     "output_type": "stream",
     "text": [
      "(200, 2)\n",
      "(200,)\n"
     ]
    }
   ],
   "source": [
    "print(X.shape)\n",
    "print(y.shape)"
   ]
  },
  {
   "cell_type": "code",
   "execution_count": 6,
   "metadata": {},
   "outputs": [],
   "source": [
    "# Function to plot decision boundary\n",
    "def plot_decision_boundary(pred_func): \n",
    "    x_min, x_max = X[:, 0].min() - .5, X[:, 0].max() + .5 \n",
    "    y_min, y_max = X[:, 1].min() - .5, X[:, 1].max() + .5 \n",
    "    h = 0.01 \n",
    "    xx, yy = np.meshgrid(np.arange(x_min, x_max, h), np.arange(y_min, y_max, h)) \n",
    "\n",
    "    Z = pred_func(np.c_[xx.ravel(), yy.ravel()]) \n",
    "    Z = Z.reshape(xx.shape) \n",
    "\n",
    "    plt.contourf(xx, yy, Z, cmap=plt.cm.Spectral) \n",
    "    plt.scatter(X[:, 0], X[:, 1], c=y, cmap=plt.cm.Spectral) \n"
   ]
  },
  {
   "cell_type": "code",
   "execution_count": 7,
   "metadata": {},
   "outputs": [],
   "source": [
    "train_length = len(X)\n",
    "input_dim = 2\n",
    "output_dim = 2\n",
    "epsilon = 0.01\n",
    "lambda_reg = 0.01 # for regularisation"
   ]
  },
  {
   "cell_type": "code",
   "execution_count": 8,
   "metadata": {},
   "outputs": [],
   "source": [
    "def loss(model):\n",
    "    w1, b1, w2, b2 = model['w1'],model['b1'],model['w2'], model['b2']\n",
    "    z1 = X.dot(w1) + b1\n",
    "    a1 = np.tanh(z1)\n",
    "    z2 = a1.dot(w2) + b2\n",
    "    scores = np.exp(z2)\n",
    "    prob = scores / np.sum(scores, axis=1,keepdims=True)\n",
    "    true_logprob = -np.log(prob[range(train_length),y])\n",
    "    data_loss = np.sum(true_logprob)\n",
    "    # regularization term\n",
    "    data_loss += lambda_reg/2 * (np.sum(np.square(w1)) + np.sum(np.square(w2))) \n",
    "    \n",
    "    return 1./train_length * data_loss"
   ]
  },
  {
   "cell_type": "code",
   "execution_count": 9,
   "metadata": {},
   "outputs": [],
   "source": [
    "def predict(model,x):\n",
    "    w1, b1, w2, b2 = model['w1'], model['b1'], model['w2'],model['b2']\n",
    "    z1 = x.dot(w1) + b1 \n",
    "    a1 = np.tanh(z1) \n",
    "    z2 = a1.dot(w2) + b2 \n",
    "    exp_scores = np.exp(z2) \n",
    "    probs = exp_scores / np.sum(exp_scores, axis=1, keepdims=True) \n",
    "    return np.argmax(probs, axis=1) "
   ]
  },
  {
   "cell_type": "code",
   "execution_count": 10,
   "metadata": {},
   "outputs": [],
   "source": [
    "def build_model(nn_hdim,print_loss=False): \n",
    "# Parameters initialized to random values.. these are learnt\n",
    "    np.random.seed(0) \n",
    "    W1 = np.random.randn(input_dim, nn_hdim) / np.sqrt(input_dim) \n",
    "    b1 = np.zeros((1, nn_hdim)) \n",
    "    W2 = np.random.randn(nn_hdim, output_dim) / np.sqrt(nn_hdim) \n",
    "    b2 = np.zeros((1, output_dim)) \n",
    "\n",
    "    model = {} \n",
    "# Gradient descent. For each batch... \n",
    "    for i in range(0, 200000): \n",
    "    # Forward propagation \n",
    "            z1 = X.dot(W1) + b1 \n",
    "            a1 = np.tanh(z1) \n",
    "            z2 = a1.dot(W2) + b2 \n",
    "            exp_scores = np.exp(z2) \n",
    "            probs = exp_scores / np.sum(exp_scores, axis=1, keepdims=True) \n",
    "    # Backprop\n",
    "            delta3 = probs \n",
    "            delta3[range(train_length), y] -= 1 \n",
    "            dW2 = (a1.T).dot(delta3) \n",
    "            db2 = np.sum(delta3, axis=0, keepdims=True) \n",
    "            delta2 = delta3.dot(W2.T) * (1 - np.power(a1, 2)) \n",
    "            dW1 = np.dot(X.T, delta2) \n",
    "            db1 = np.sum(delta2, axis=0) \n",
    "    # Regularization terms \n",
    "            dW2 += lambda_reg * W2 \n",
    "            dW1 += lambda_reg * W1 \n",
    "    # Update\n",
    "            W1 += -epsilon * dW1 \n",
    "            b1 += -epsilon * db1 \n",
    "            W2 += -epsilon * dW2 \n",
    "            b2 += -epsilon * db2 \n",
    "\n",
    "            model = { 'w1': W1, 'b1': b1, 'w2': W2, 'b2': b2} \n",
    "\n",
    "            if print_loss and i % 1000 == 0: \n",
    "                print(\"Loss after iteration %i: %f\" %(i, loss(model))) \n",
    "    \n",
    "    return model "
   ]
  },
  {
   "cell_type": "code",
   "execution_count": 11,
   "metadata": {},
   "outputs": [
    {
     "name": "stdout",
     "output_type": "stream",
     "text": [
      "Loss after iteration 0: 0.421267\n",
      "Loss after iteration 1000: 0.090569\n",
      "Loss after iteration 2000: 0.090036\n",
      "Loss after iteration 3000: 0.089890\n",
      "Loss after iteration 4000: 0.089842\n",
      "Loss after iteration 5000: 0.089822\n",
      "Loss after iteration 6000: 0.089814\n",
      "Loss after iteration 7000: 0.089810\n",
      "Loss after iteration 8000: 0.089808\n",
      "Loss after iteration 9000: 0.089807\n",
      "Loss after iteration 10000: 0.089806\n",
      "Loss after iteration 11000: 0.089806\n",
      "Loss after iteration 12000: 0.089806\n",
      "Loss after iteration 13000: 0.089806\n",
      "Loss after iteration 14000: 0.089806\n",
      "Loss after iteration 15000: 0.089806\n",
      "Loss after iteration 16000: 0.089806\n",
      "Loss after iteration 17000: 0.089806\n",
      "Loss after iteration 18000: 0.089806\n",
      "Loss after iteration 19000: 0.089806\n",
      "Loss after iteration 20000: 0.089806\n",
      "Loss after iteration 21000: 0.089806\n",
      "Loss after iteration 22000: 0.089806\n",
      "Loss after iteration 23000: 0.089805\n",
      "Loss after iteration 24000: 0.089805\n",
      "Loss after iteration 25000: 0.089805\n",
      "Loss after iteration 26000: 0.089805\n",
      "Loss after iteration 27000: 0.089805\n",
      "Loss after iteration 28000: 0.089805\n",
      "Loss after iteration 29000: 0.089805\n",
      "Loss after iteration 30000: 0.089805\n",
      "Loss after iteration 31000: 0.089805\n",
      "Loss after iteration 32000: 0.089805\n",
      "Loss after iteration 33000: 0.089805\n",
      "Loss after iteration 34000: 0.089805\n",
      "Loss after iteration 35000: 0.089805\n",
      "Loss after iteration 36000: 0.089805\n",
      "Loss after iteration 37000: 0.089805\n",
      "Loss after iteration 38000: 0.089805\n",
      "Loss after iteration 39000: 0.089805\n",
      "Loss after iteration 40000: 0.089805\n",
      "Loss after iteration 41000: 0.089805\n",
      "Loss after iteration 42000: 0.089805\n",
      "Loss after iteration 43000: 0.089805\n",
      "Loss after iteration 44000: 0.089805\n",
      "Loss after iteration 45000: 0.089805\n",
      "Loss after iteration 46000: 0.089805\n",
      "Loss after iteration 47000: 0.089805\n",
      "Loss after iteration 48000: 0.089805\n",
      "Loss after iteration 49000: 0.089805\n",
      "Loss after iteration 50000: 0.089805\n",
      "Loss after iteration 51000: 0.089805\n",
      "Loss after iteration 52000: 0.089805\n",
      "Loss after iteration 53000: 0.089805\n",
      "Loss after iteration 54000: 0.089805\n",
      "Loss after iteration 55000: 0.089805\n",
      "Loss after iteration 56000: 0.089805\n",
      "Loss after iteration 57000: 0.089805\n",
      "Loss after iteration 58000: 0.089805\n",
      "Loss after iteration 59000: 0.089805\n",
      "Loss after iteration 60000: 0.089805\n",
      "Loss after iteration 61000: 0.089805\n",
      "Loss after iteration 62000: 0.089805\n",
      "Loss after iteration 63000: 0.089805\n",
      "Loss after iteration 64000: 0.089805\n",
      "Loss after iteration 65000: 0.089805\n",
      "Loss after iteration 66000: 0.089805\n",
      "Loss after iteration 67000: 0.089805\n",
      "Loss after iteration 68000: 0.089805\n",
      "Loss after iteration 69000: 0.089805\n",
      "Loss after iteration 70000: 0.089805\n",
      "Loss after iteration 71000: 0.089805\n",
      "Loss after iteration 72000: 0.089805\n",
      "Loss after iteration 73000: 0.089805\n",
      "Loss after iteration 74000: 0.089805\n",
      "Loss after iteration 75000: 0.089805\n",
      "Loss after iteration 76000: 0.089805\n",
      "Loss after iteration 77000: 0.089805\n",
      "Loss after iteration 78000: 0.089805\n",
      "Loss after iteration 79000: 0.089805\n",
      "Loss after iteration 80000: 0.089805\n",
      "Loss after iteration 81000: 0.089805\n",
      "Loss after iteration 82000: 0.089805\n",
      "Loss after iteration 83000: 0.089805\n",
      "Loss after iteration 84000: 0.089805\n",
      "Loss after iteration 85000: 0.089805\n",
      "Loss after iteration 86000: 0.089805\n",
      "Loss after iteration 87000: 0.089805\n",
      "Loss after iteration 88000: 0.089805\n",
      "Loss after iteration 89000: 0.089805\n",
      "Loss after iteration 90000: 0.089805\n",
      "Loss after iteration 91000: 0.089805\n",
      "Loss after iteration 92000: 0.089805\n",
      "Loss after iteration 93000: 0.089805\n",
      "Loss after iteration 94000: 0.089805\n",
      "Loss after iteration 95000: 0.089805\n",
      "Loss after iteration 96000: 0.089805\n",
      "Loss after iteration 97000: 0.089805\n",
      "Loss after iteration 98000: 0.089805\n",
      "Loss after iteration 99000: 0.089805\n",
      "Loss after iteration 100000: 0.089805\n",
      "Loss after iteration 101000: 0.089805\n",
      "Loss after iteration 102000: 0.089805\n",
      "Loss after iteration 103000: 0.089805\n",
      "Loss after iteration 104000: 0.089805\n",
      "Loss after iteration 105000: 0.089805\n",
      "Loss after iteration 106000: 0.089805\n",
      "Loss after iteration 107000: 0.089805\n",
      "Loss after iteration 108000: 0.089805\n",
      "Loss after iteration 109000: 0.089805\n",
      "Loss after iteration 110000: 0.089805\n",
      "Loss after iteration 111000: 0.089805\n",
      "Loss after iteration 112000: 0.089805\n",
      "Loss after iteration 113000: 0.089805\n",
      "Loss after iteration 114000: 0.089805\n",
      "Loss after iteration 115000: 0.089805\n",
      "Loss after iteration 116000: 0.089805\n",
      "Loss after iteration 117000: 0.089805\n",
      "Loss after iteration 118000: 0.089805\n",
      "Loss after iteration 119000: 0.089805\n",
      "Loss after iteration 120000: 0.089805\n",
      "Loss after iteration 121000: 0.089805\n",
      "Loss after iteration 122000: 0.089805\n",
      "Loss after iteration 123000: 0.089805\n",
      "Loss after iteration 124000: 0.089805\n",
      "Loss after iteration 125000: 0.089805\n",
      "Loss after iteration 126000: 0.089805\n",
      "Loss after iteration 127000: 0.089805\n",
      "Loss after iteration 128000: 0.089805\n",
      "Loss after iteration 129000: 0.089805\n",
      "Loss after iteration 130000: 0.089805\n",
      "Loss after iteration 131000: 0.089805\n",
      "Loss after iteration 132000: 0.089805\n",
      "Loss after iteration 133000: 0.089805\n",
      "Loss after iteration 134000: 0.089805\n",
      "Loss after iteration 135000: 0.089805\n",
      "Loss after iteration 136000: 0.089805\n",
      "Loss after iteration 137000: 0.089805\n",
      "Loss after iteration 138000: 0.089805\n",
      "Loss after iteration 139000: 0.089805\n",
      "Loss after iteration 140000: 0.089805\n",
      "Loss after iteration 141000: 0.089805\n",
      "Loss after iteration 142000: 0.089805\n",
      "Loss after iteration 143000: 0.089805\n",
      "Loss after iteration 144000: 0.089805\n",
      "Loss after iteration 145000: 0.089805\n",
      "Loss after iteration 146000: 0.089805\n",
      "Loss after iteration 147000: 0.089805\n",
      "Loss after iteration 148000: 0.089805\n",
      "Loss after iteration 149000: 0.089805\n",
      "Loss after iteration 150000: 0.089805\n",
      "Loss after iteration 151000: 0.089805\n",
      "Loss after iteration 152000: 0.089805\n",
      "Loss after iteration 153000: 0.089805\n",
      "Loss after iteration 154000: 0.089805\n",
      "Loss after iteration 155000: 0.089805\n",
      "Loss after iteration 156000: 0.089805\n",
      "Loss after iteration 157000: 0.089805\n",
      "Loss after iteration 158000: 0.089805\n",
      "Loss after iteration 159000: 0.089805\n",
      "Loss after iteration 160000: 0.089805\n",
      "Loss after iteration 161000: 0.089805\n",
      "Loss after iteration 162000: 0.089805\n",
      "Loss after iteration 163000: 0.089805\n",
      "Loss after iteration 164000: 0.089805\n",
      "Loss after iteration 165000: 0.089805\n",
      "Loss after iteration 166000: 0.089805\n",
      "Loss after iteration 167000: 0.089805\n",
      "Loss after iteration 168000: 0.089805\n",
      "Loss after iteration 169000: 0.089805\n",
      "Loss after iteration 170000: 0.089805\n",
      "Loss after iteration 171000: 0.089805\n",
      "Loss after iteration 172000: 0.089805\n",
      "Loss after iteration 173000: 0.089805\n",
      "Loss after iteration 174000: 0.089805\n",
      "Loss after iteration 175000: 0.089805\n",
      "Loss after iteration 176000: 0.089805\n",
      "Loss after iteration 177000: 0.089805\n",
      "Loss after iteration 178000: 0.089805\n",
      "Loss after iteration 179000: 0.089805\n",
      "Loss after iteration 180000: 0.089805\n",
      "Loss after iteration 181000: 0.089805\n",
      "Loss after iteration 182000: 0.089805\n",
      "Loss after iteration 183000: 0.089805\n",
      "Loss after iteration 184000: 0.089805\n",
      "Loss after iteration 185000: 0.089805\n",
      "Loss after iteration 186000: 0.089805\n",
      "Loss after iteration 187000: 0.089805\n",
      "Loss after iteration 188000: 0.089805\n",
      "Loss after iteration 189000: 0.089805\n",
      "Loss after iteration 190000: 0.089805\n",
      "Loss after iteration 191000: 0.089805\n",
      "Loss after iteration 192000: 0.089805\n",
      "Loss after iteration 193000: 0.089805\n",
      "Loss after iteration 194000: 0.089805\n",
      "Loss after iteration 195000: 0.089805\n",
      "Loss after iteration 196000: 0.089805\n",
      "Loss after iteration 197000: 0.089805\n",
      "Loss after iteration 198000: 0.089805\n",
      "Loss after iteration 199000: 0.089805\n"
     ]
    }
   ],
   "source": [
    "# Build a model with a 3-dimensional hidden layer\n",
    "model = build_model(3, print_loss=True)"
   ]
  },
  {
   "cell_type": "code",
   "execution_count": 12,
   "metadata": {},
   "outputs": [
    {
     "data": {
      "text/plain": [
       "<matplotlib.text.Text at 0x10241f0b8>"
      ]
     },
     "execution_count": 12,
     "metadata": {},
     "output_type": "execute_result"
    },
    {
     "data": {
      "image/png": "[encoded data removed]",
      "text/plain": [
       "<matplotlib.figure.Figure at 0x10774ebe0>"
      ]
     },
     "metadata": {},
     "output_type": "display_data"
    }
   ],
   "source": [
    "# Plot the decision boundary\n",
    "plot_decision_boundary(lambda x: predict(model, x))\n",
    "plt.title(\"Decision Boundary for hidden layer of size 3\")"
   ]
  },
  {
   "cell_type": "code",
   "execution_count": null,
   "metadata": {},
   "outputs": [],
   "source": []
  }
 ],
 "metadata": {
  "kernelspec": {
   "display_name": "Python 3",
   "language": "python",
   "name": "python3"
  },
  "language_info": {
   "codemirror_mode": {
    "name": "ipython",
    "version": 3
   },
   "file_extension": ".py",
   "mimetype": "text/x-python",
   "name": "python",
   "nbconvert_exporter": "python",
   "pygments_lexer": "ipython3",
   "version": "3.6.2"
  }
 },
 "nbformat": 4,
 "nbformat_minor": 2
}
